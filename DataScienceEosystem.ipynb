{
 "cells": [
  {
   "cell_type": "markdown",
   "metadata": {},
   "source": [
    "<center>\n",
    "    <img src=\"https://cf-courses-data.s3.us.cloud-object-storage.appdomain.cloud/IBMDeveloperSkillsNetwork-DS0105EN-SkillsNetwork/labs/Module2/images/SN_web_lightmode.png\" width=\"300\" alt=\"cognitiveclass.ai logo\">\n",
    "</center>\n"
   ]
  },
  {
   "cell_type": "markdown",
   "metadata": {},
   "source": [
    "<h1> data science tools and ecosystem </h1>"
   ]
  },
  {
   "cell_type": "markdown",
   "metadata": {},
   "source": [
    "#### Add your code below following the instructions given in the course\n"
   ]
  },
  {
   "cell_type": "markdown",
   "metadata": {},
   "source": [
    "In this notebook, data science tools and ecosystem are summarized."
   ]
  },
  {
   "cell_type": "markdown",
   "metadata": {},
   "source": [
    "**objectives**\n",
    "\n",
    "* Popular languages or data science.\n",
    "* Libraries used by data scientists.\n",
    "* Data science tools.\n",
    "* Arithmetic expressions in python."
   ]
  },
  {
   "cell_type": "markdown",
   "metadata": {},
   "source": [
    "some of the popular languages that data scientists use are:\n",
    "1. R \n",
    "2. python\n",
    "3. sql\n",
    "4. scala\n",
    "5. java \n",
    "6. c++\n",
    "7. julia\n"
   ]
  },
  {
   "cell_type": "markdown",
   "metadata": {},
   "source": [
    "some of the commonly used libraries used by data scientists include:\n",
    "\n",
    " 1. NumPy\n",
    " 2. pandas\n",
    " 3. Matplotlib\n",
    " 4. scikit-learn\n",
    " 5. seaborn"
   ]
  },
  {
   "cell_type": "markdown",
   "metadata": {},
   "source": [
    "|data science tools|\n",
    "|------------------|\n",
    "|Jupyter notebook|\n",
    "|RStudio|\n",
    "|Visual studio code|"
   ]
  },
  {
   "cell_type": "markdown",
   "metadata": {},
   "source": [
    "<h3>Below are a few examples of evaluating arithmetic expressions in python.</h3>\n",
    "\n",
    "1. addition +\n",
    "2. subtraction -\n",
    "3. multiplication *\n",
    "4. integer division //\n",
    "5. modulo %\n"
   ]
  },
  {
   "cell_type": "code",
   "execution_count": 17,
   "metadata": {
    "tags": []
   },
   "outputs": [
    {
     "data": {
      "text/plain": [
       "17"
      ]
     },
     "execution_count": 17,
     "metadata": {},
     "output_type": "execute_result"
    }
   ],
   "source": [
    "#this a simple arithmetic expression to multiply then add integers.\n",
    "result = (3 * 4)+ 5\n",
    "result"
   ]
  },
  {
   "cell_type": "code",
   "execution_count": 18,
   "metadata": {
    "tags": []
   },
   "outputs": [
    {
     "data": {
      "text/plain": [
       "3.3333333333333335"
      ]
     },
     "execution_count": 18,
     "metadata": {},
     "output_type": "execute_result"
    }
   ],
   "source": [
    "#this will convert 200 minites into hours by dividing with 60.\n",
    "\n",
    "result = 200 / 60\n",
    "result"
   ]
  },
  {
   "cell_type": "markdown",
   "metadata": {},
   "source": [
    "<h2>Author<h2/>\n",
    "    Kamjula Dinesh Reddy"
   ]
  },
  {
   "cell_type": "code",
   "execution_count": null,
   "metadata": {},
   "outputs": [],
   "source": []
  }
 ],
 "metadata": {
  "kernelspec": {
   "display_name": "Python",
   "language": "python",
   "name": "conda-env-python-py"
  },
  "language_info": {
   "codemirror_mode": {
    "name": "ipython",
    "version": 3
   },
   "file_extension": ".py",
   "mimetype": "text/x-python",
   "name": "python",
   "nbconvert_exporter": "python",
   "pygments_lexer": "ipython3",
   "version": "3.7.12"
  }
 },
 "nbformat": 4,
 "nbformat_minor": 4
}
